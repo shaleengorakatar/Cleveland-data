{
 "cells": [
  {
   "cell_type": "code",
   "execution_count": 1,
   "id": "5061d599-ed69-4f80-ab61-98e4e82bf172",
   "metadata": {},
   "outputs": [
    {
     "name": "stderr",
     "output_type": "stream",
     "text": [
      "── \u001b[1mAttaching packages\u001b[22m ─────────────────────────────────────── tidyverse 1.3.1 ──\n",
      "\n",
      "\u001b[32m✔\u001b[39m \u001b[34mggplot2\u001b[39m 3.3.6     \u001b[32m✔\u001b[39m \u001b[34mpurrr  \u001b[39m 0.3.4\n",
      "\u001b[32m✔\u001b[39m \u001b[34mtibble \u001b[39m 3.1.7     \u001b[32m✔\u001b[39m \u001b[34mdplyr  \u001b[39m 1.0.9\n",
      "\u001b[32m✔\u001b[39m \u001b[34mtidyr  \u001b[39m 1.2.0     \u001b[32m✔\u001b[39m \u001b[34mstringr\u001b[39m 1.4.0\n",
      "\u001b[32m✔\u001b[39m \u001b[34mreadr  \u001b[39m 2.1.2     \u001b[32m✔\u001b[39m \u001b[34mforcats\u001b[39m 0.5.1\n",
      "\n",
      "── \u001b[1mConflicts\u001b[22m ────────────────────────────────────────── tidyverse_conflicts() ──\n",
      "\u001b[31m✖\u001b[39m \u001b[34mdplyr\u001b[39m::\u001b[32mfilter()\u001b[39m masks \u001b[34mstats\u001b[39m::filter()\n",
      "\u001b[31m✖\u001b[39m \u001b[34mdplyr\u001b[39m::\u001b[32mlag()\u001b[39m    masks \u001b[34mstats\u001b[39m::lag()\n",
      "\n",
      "── \u001b[1mAttaching packages\u001b[22m ────────────────────────────────────── tidymodels 1.0.0 ──\n",
      "\n",
      "\u001b[32m✔\u001b[39m \u001b[34mbroom       \u001b[39m 1.0.0     \u001b[32m✔\u001b[39m \u001b[34mrsample     \u001b[39m 1.0.0\n",
      "\u001b[32m✔\u001b[39m \u001b[34mdials       \u001b[39m 1.0.0     \u001b[32m✔\u001b[39m \u001b[34mtune        \u001b[39m 1.0.0\n",
      "\u001b[32m✔\u001b[39m \u001b[34minfer       \u001b[39m 1.0.2     \u001b[32m✔\u001b[39m \u001b[34mworkflows   \u001b[39m 1.0.0\n",
      "\u001b[32m✔\u001b[39m \u001b[34mmodeldata   \u001b[39m 1.0.0     \u001b[32m✔\u001b[39m \u001b[34mworkflowsets\u001b[39m 1.0.0\n",
      "\u001b[32m✔\u001b[39m \u001b[34mparsnip     \u001b[39m 1.0.0     \u001b[32m✔\u001b[39m \u001b[34myardstick   \u001b[39m 1.0.0\n",
      "\u001b[32m✔\u001b[39m \u001b[34mrecipes     \u001b[39m 1.0.1     \n",
      "\n",
      "── \u001b[1mConflicts\u001b[22m ───────────────────────────────────────── tidymodels_conflicts() ──\n",
      "\u001b[31m✖\u001b[39m \u001b[34mscales\u001b[39m::\u001b[32mdiscard()\u001b[39m masks \u001b[34mpurrr\u001b[39m::discard()\n",
      "\u001b[31m✖\u001b[39m \u001b[34mdplyr\u001b[39m::\u001b[32mfilter()\u001b[39m   masks \u001b[34mstats\u001b[39m::filter()\n",
      "\u001b[31m✖\u001b[39m \u001b[34mrecipes\u001b[39m::\u001b[32mfixed()\u001b[39m  masks \u001b[34mstringr\u001b[39m::fixed()\n",
      "\u001b[31m✖\u001b[39m \u001b[34mdplyr\u001b[39m::\u001b[32mlag()\u001b[39m      masks \u001b[34mstats\u001b[39m::lag()\n",
      "\u001b[31m✖\u001b[39m \u001b[34myardstick\u001b[39m::\u001b[32mspec()\u001b[39m masks \u001b[34mreadr\u001b[39m::spec()\n",
      "\u001b[31m✖\u001b[39m \u001b[34mrecipes\u001b[39m::\u001b[32mstep()\u001b[39m   masks \u001b[34mstats\u001b[39m::step()\n",
      "\u001b[34m•\u001b[39m Use suppressPackageStartupMessages() to eliminate package startup messages\n",
      "\n"
     ]
    }
   ],
   "source": [
    "set.seed(2000)\n",
    "library(tidyverse)\n",
    "library(tidymodels)\n",
    "library(repr)\n",
    "library(cowplot)\n",
    "options(repr.matrix.max.rows = 6)"
   ]
  },
  {
   "cell_type": "code",
   "execution_count": 2,
   "id": "ff99ad94-5cd5-41e5-b725-f50826d8cc4c",
   "metadata": {},
   "outputs": [
    {
     "name": "stderr",
     "output_type": "stream",
     "text": [
      "\u001b[1m\u001b[22mNew names:\n",
      "\u001b[36m•\u001b[39m `1.0` -> `1.0...2`\n",
      "\u001b[36m•\u001b[39m `1.0` -> `1.0...3`\n",
      "\u001b[36m•\u001b[39m `1.0` -> `1.0...6`\n",
      "\u001b[36m•\u001b[39m `0.0` -> `0.0...9`\n",
      "\u001b[36m•\u001b[39m `0.0` -> `0.0...12`\n",
      "\u001b[1mRows: \u001b[22m\u001b[34m302\u001b[39m \u001b[1mColumns: \u001b[22m\u001b[34m14\u001b[39m\n",
      "\u001b[36m──\u001b[39m \u001b[1mColumn specification\u001b[22m \u001b[36m────────────────────────────────────────────────────────\u001b[39m\n",
      "\u001b[1mDelimiter:\u001b[22m \",\"\n",
      "\u001b[31mchr\u001b[39m  (2): 0.0...12, 6.0\n",
      "\u001b[32mdbl\u001b[39m (12): 63.0, 1.0...2, 1.0...3, 145.0, 233.0, 1.0...6, 2.0, 150.0, 0.0...9...\n",
      "\n",
      "\u001b[36mℹ\u001b[39m Use `spec()` to retrieve the full column specification for this data.\n",
      "\u001b[36mℹ\u001b[39m Specify the column types or set `show_col_types = FALSE` to quiet this message.\n"
     ]
    },
    {
     "data": {
      "text/html": [
       "<table class=\"dataframe\">\n",
       "<caption>A spec_tbl_df: 302 × 14</caption>\n",
       "<thead>\n",
       "\t<tr><th scope=col>63.0</th><th scope=col>1.0...2</th><th scope=col>1.0...3</th><th scope=col>145.0</th><th scope=col>233.0</th><th scope=col>1.0...6</th><th scope=col>2.0</th><th scope=col>150.0</th><th scope=col>0.0...9</th><th scope=col>2.3</th><th scope=col>3.0</th><th scope=col>0.0...12</th><th scope=col>6.0</th><th scope=col>0</th></tr>\n",
       "\t<tr><th scope=col>&lt;dbl&gt;</th><th scope=col>&lt;dbl&gt;</th><th scope=col>&lt;dbl&gt;</th><th scope=col>&lt;dbl&gt;</th><th scope=col>&lt;dbl&gt;</th><th scope=col>&lt;dbl&gt;</th><th scope=col>&lt;dbl&gt;</th><th scope=col>&lt;dbl&gt;</th><th scope=col>&lt;dbl&gt;</th><th scope=col>&lt;dbl&gt;</th><th scope=col>&lt;dbl&gt;</th><th scope=col>&lt;chr&gt;</th><th scope=col>&lt;chr&gt;</th><th scope=col>&lt;dbl&gt;</th></tr>\n",
       "</thead>\n",
       "<tbody>\n",
       "\t<tr><td>67</td><td>1</td><td>4</td><td>160</td><td>286</td><td>0</td><td>2</td><td>108</td><td>1</td><td>1.5</td><td>2</td><td>3.0</td><td>3.0</td><td>2</td></tr>\n",
       "\t<tr><td>67</td><td>1</td><td>4</td><td>120</td><td>229</td><td>0</td><td>2</td><td>129</td><td>1</td><td>2.6</td><td>2</td><td>2.0</td><td>7.0</td><td>1</td></tr>\n",
       "\t<tr><td>37</td><td>1</td><td>3</td><td>130</td><td>250</td><td>0</td><td>0</td><td>187</td><td>0</td><td>3.5</td><td>3</td><td>0.0</td><td>3.0</td><td>0</td></tr>\n",
       "\t<tr><td>⋮</td><td>⋮</td><td>⋮</td><td>⋮</td><td>⋮</td><td>⋮</td><td>⋮</td><td>⋮</td><td>⋮</td><td>⋮</td><td>⋮</td><td>⋮</td><td>⋮</td><td>⋮</td></tr>\n",
       "\t<tr><td>57</td><td>1</td><td>4</td><td>130</td><td>131</td><td>0</td><td>0</td><td>115</td><td>1</td><td>1.2</td><td>2</td><td>1.0</td><td>7.0</td><td>3</td></tr>\n",
       "\t<tr><td>57</td><td>0</td><td>2</td><td>130</td><td>236</td><td>0</td><td>2</td><td>174</td><td>0</td><td>0.0</td><td>2</td><td>1.0</td><td>3.0</td><td>1</td></tr>\n",
       "\t<tr><td>38</td><td>1</td><td>3</td><td>138</td><td>175</td><td>0</td><td>0</td><td>173</td><td>0</td><td>0.0</td><td>1</td><td>?  </td><td>3.0</td><td>0</td></tr>\n",
       "</tbody>\n",
       "</table>\n"
      ],
      "text/latex": [
       "A spec\\_tbl\\_df: 302 × 14\n",
       "\\begin{tabular}{llllllllllllll}\n",
       " 63.0 & 1.0...2 & 1.0...3 & 145.0 & 233.0 & 1.0...6 & 2.0 & 150.0 & 0.0...9 & 2.3 & 3.0 & 0.0...12 & 6.0 & 0\\\\\n",
       " <dbl> & <dbl> & <dbl> & <dbl> & <dbl> & <dbl> & <dbl> & <dbl> & <dbl> & <dbl> & <dbl> & <chr> & <chr> & <dbl>\\\\\n",
       "\\hline\n",
       "\t 67 & 1 & 4 & 160 & 286 & 0 & 2 & 108 & 1 & 1.5 & 2 & 3.0 & 3.0 & 2\\\\\n",
       "\t 67 & 1 & 4 & 120 & 229 & 0 & 2 & 129 & 1 & 2.6 & 2 & 2.0 & 7.0 & 1\\\\\n",
       "\t 37 & 1 & 3 & 130 & 250 & 0 & 0 & 187 & 0 & 3.5 & 3 & 0.0 & 3.0 & 0\\\\\n",
       "\t ⋮ & ⋮ & ⋮ & ⋮ & ⋮ & ⋮ & ⋮ & ⋮ & ⋮ & ⋮ & ⋮ & ⋮ & ⋮ & ⋮\\\\\n",
       "\t 57 & 1 & 4 & 130 & 131 & 0 & 0 & 115 & 1 & 1.2 & 2 & 1.0 & 7.0 & 3\\\\\n",
       "\t 57 & 0 & 2 & 130 & 236 & 0 & 2 & 174 & 0 & 0.0 & 2 & 1.0 & 3.0 & 1\\\\\n",
       "\t 38 & 1 & 3 & 138 & 175 & 0 & 0 & 173 & 0 & 0.0 & 1 & ?   & 3.0 & 0\\\\\n",
       "\\end{tabular}\n"
      ],
      "text/markdown": [
       "\n",
       "A spec_tbl_df: 302 × 14\n",
       "\n",
       "| 63.0 &lt;dbl&gt; | 1.0...2 &lt;dbl&gt; | 1.0...3 &lt;dbl&gt; | 145.0 &lt;dbl&gt; | 233.0 &lt;dbl&gt; | 1.0...6 &lt;dbl&gt; | 2.0 &lt;dbl&gt; | 150.0 &lt;dbl&gt; | 0.0...9 &lt;dbl&gt; | 2.3 &lt;dbl&gt; | 3.0 &lt;dbl&gt; | 0.0...12 &lt;chr&gt; | 6.0 &lt;chr&gt; | 0 &lt;dbl&gt; |\n",
       "|---|---|---|---|---|---|---|---|---|---|---|---|---|---|\n",
       "| 67 | 1 | 4 | 160 | 286 | 0 | 2 | 108 | 1 | 1.5 | 2 | 3.0 | 3.0 | 2 |\n",
       "| 67 | 1 | 4 | 120 | 229 | 0 | 2 | 129 | 1 | 2.6 | 2 | 2.0 | 7.0 | 1 |\n",
       "| 37 | 1 | 3 | 130 | 250 | 0 | 0 | 187 | 0 | 3.5 | 3 | 0.0 | 3.0 | 0 |\n",
       "| ⋮ | ⋮ | ⋮ | ⋮ | ⋮ | ⋮ | ⋮ | ⋮ | ⋮ | ⋮ | ⋮ | ⋮ | ⋮ | ⋮ |\n",
       "| 57 | 1 | 4 | 130 | 131 | 0 | 0 | 115 | 1 | 1.2 | 2 | 1.0 | 7.0 | 3 |\n",
       "| 57 | 0 | 2 | 130 | 236 | 0 | 2 | 174 | 0 | 0.0 | 2 | 1.0 | 3.0 | 1 |\n",
       "| 38 | 1 | 3 | 138 | 175 | 0 | 0 | 173 | 0 | 0.0 | 1 | ?   | 3.0 | 0 |\n",
       "\n"
      ],
      "text/plain": [
       "    63.0 1.0...2 1.0...3 145.0 233.0 1.0...6 2.0 150.0 0.0...9 2.3 3.0 0.0...12\n",
       "1   67   1       4       160   286   0       2   108   1       1.5 2   3.0     \n",
       "2   67   1       4       120   229   0       2   129   1       2.6 2   2.0     \n",
       "3   37   1       3       130   250   0       0   187   0       3.5 3   0.0     \n",
       "⋮   ⋮    ⋮       ⋮       ⋮     ⋮     ⋮       ⋮   ⋮     ⋮       ⋮   ⋮   ⋮       \n",
       "300 57   1       4       130   131   0       0   115   1       1.2 2   1.0     \n",
       "301 57   0       2       130   236   0       2   174   0       0.0 2   1.0     \n",
       "302 38   1       3       138   175   0       0   173   0       0.0 1   ?       \n",
       "    6.0 0\n",
       "1   3.0 2\n",
       "2   7.0 1\n",
       "3   3.0 0\n",
       "⋮   ⋮   ⋮\n",
       "300 7.0 3\n",
       "301 3.0 1\n",
       "302 3.0 0"
      ]
     },
     "metadata": {},
     "output_type": "display_data"
    }
   ],
   "source": [
    "cleveland <- read_csv(\"cleveland/processed.cleveland.data\")\n",
    "cleveland"
   ]
  },
  {
   "cell_type": "code",
   "execution_count": 3,
   "id": "28f5858e-8458-4970-b08c-159d3255586b",
   "metadata": {
    "collapsed": true,
    "jupyter": {
     "outputs_hidden": true
    },
    "tags": []
   },
   "outputs": [
    {
     "data": {
      "text/html": [
       "<table class=\"dataframe\">\n",
       "<caption>A spec_tbl_df: 302 × 14</caption>\n",
       "<thead>\n",
       "\t<tr><th scope=col>age</th><th scope=col>sex</th><th scope=col>cp</th><th scope=col>trestbps</th><th scope=col>chol</th><th scope=col>fbs</th><th scope=col>restecg</th><th scope=col>thalach</th><th scope=col>exang</th><th scope=col>oldpeak</th><th scope=col>slope</th><th scope=col>ca</th><th scope=col>thal</th><th scope=col>num</th></tr>\n",
       "\t<tr><th scope=col>&lt;dbl&gt;</th><th scope=col>&lt;dbl&gt;</th><th scope=col>&lt;dbl&gt;</th><th scope=col>&lt;dbl&gt;</th><th scope=col>&lt;dbl&gt;</th><th scope=col>&lt;dbl&gt;</th><th scope=col>&lt;dbl&gt;</th><th scope=col>&lt;dbl&gt;</th><th scope=col>&lt;dbl&gt;</th><th scope=col>&lt;dbl&gt;</th><th scope=col>&lt;dbl&gt;</th><th scope=col>&lt;chr&gt;</th><th scope=col>&lt;chr&gt;</th><th scope=col>&lt;dbl&gt;</th></tr>\n",
       "</thead>\n",
       "<tbody>\n",
       "\t<tr><td>67</td><td>1</td><td>4</td><td>160</td><td>286</td><td>0</td><td>2</td><td>108</td><td>1</td><td>1.5</td><td>2</td><td>3.0</td><td>3.0</td><td>2</td></tr>\n",
       "\t<tr><td>67</td><td>1</td><td>4</td><td>120</td><td>229</td><td>0</td><td>2</td><td>129</td><td>1</td><td>2.6</td><td>2</td><td>2.0</td><td>7.0</td><td>1</td></tr>\n",
       "\t<tr><td>37</td><td>1</td><td>3</td><td>130</td><td>250</td><td>0</td><td>0</td><td>187</td><td>0</td><td>3.5</td><td>3</td><td>0.0</td><td>3.0</td><td>0</td></tr>\n",
       "\t<tr><td>⋮</td><td>⋮</td><td>⋮</td><td>⋮</td><td>⋮</td><td>⋮</td><td>⋮</td><td>⋮</td><td>⋮</td><td>⋮</td><td>⋮</td><td>⋮</td><td>⋮</td><td>⋮</td></tr>\n",
       "\t<tr><td>57</td><td>1</td><td>4</td><td>130</td><td>131</td><td>0</td><td>0</td><td>115</td><td>1</td><td>1.2</td><td>2</td><td>1.0</td><td>7.0</td><td>3</td></tr>\n",
       "\t<tr><td>57</td><td>0</td><td>2</td><td>130</td><td>236</td><td>0</td><td>2</td><td>174</td><td>0</td><td>0.0</td><td>2</td><td>1.0</td><td>3.0</td><td>1</td></tr>\n",
       "\t<tr><td>38</td><td>1</td><td>3</td><td>138</td><td>175</td><td>0</td><td>0</td><td>173</td><td>0</td><td>0.0</td><td>1</td><td>?  </td><td>3.0</td><td>0</td></tr>\n",
       "</tbody>\n",
       "</table>\n"
      ],
      "text/latex": [
       "A spec\\_tbl\\_df: 302 × 14\n",
       "\\begin{tabular}{llllllllllllll}\n",
       " age & sex & cp & trestbps & chol & fbs & restecg & thalach & exang & oldpeak & slope & ca & thal & num\\\\\n",
       " <dbl> & <dbl> & <dbl> & <dbl> & <dbl> & <dbl> & <dbl> & <dbl> & <dbl> & <dbl> & <dbl> & <chr> & <chr> & <dbl>\\\\\n",
       "\\hline\n",
       "\t 67 & 1 & 4 & 160 & 286 & 0 & 2 & 108 & 1 & 1.5 & 2 & 3.0 & 3.0 & 2\\\\\n",
       "\t 67 & 1 & 4 & 120 & 229 & 0 & 2 & 129 & 1 & 2.6 & 2 & 2.0 & 7.0 & 1\\\\\n",
       "\t 37 & 1 & 3 & 130 & 250 & 0 & 0 & 187 & 0 & 3.5 & 3 & 0.0 & 3.0 & 0\\\\\n",
       "\t ⋮ & ⋮ & ⋮ & ⋮ & ⋮ & ⋮ & ⋮ & ⋮ & ⋮ & ⋮ & ⋮ & ⋮ & ⋮ & ⋮\\\\\n",
       "\t 57 & 1 & 4 & 130 & 131 & 0 & 0 & 115 & 1 & 1.2 & 2 & 1.0 & 7.0 & 3\\\\\n",
       "\t 57 & 0 & 2 & 130 & 236 & 0 & 2 & 174 & 0 & 0.0 & 2 & 1.0 & 3.0 & 1\\\\\n",
       "\t 38 & 1 & 3 & 138 & 175 & 0 & 0 & 173 & 0 & 0.0 & 1 & ?   & 3.0 & 0\\\\\n",
       "\\end{tabular}\n"
      ],
      "text/markdown": [
       "\n",
       "A spec_tbl_df: 302 × 14\n",
       "\n",
       "| age &lt;dbl&gt; | sex &lt;dbl&gt; | cp &lt;dbl&gt; | trestbps &lt;dbl&gt; | chol &lt;dbl&gt; | fbs &lt;dbl&gt; | restecg &lt;dbl&gt; | thalach &lt;dbl&gt; | exang &lt;dbl&gt; | oldpeak &lt;dbl&gt; | slope &lt;dbl&gt; | ca &lt;chr&gt; | thal &lt;chr&gt; | num &lt;dbl&gt; |\n",
       "|---|---|---|---|---|---|---|---|---|---|---|---|---|---|\n",
       "| 67 | 1 | 4 | 160 | 286 | 0 | 2 | 108 | 1 | 1.5 | 2 | 3.0 | 3.0 | 2 |\n",
       "| 67 | 1 | 4 | 120 | 229 | 0 | 2 | 129 | 1 | 2.6 | 2 | 2.0 | 7.0 | 1 |\n",
       "| 37 | 1 | 3 | 130 | 250 | 0 | 0 | 187 | 0 | 3.5 | 3 | 0.0 | 3.0 | 0 |\n",
       "| ⋮ | ⋮ | ⋮ | ⋮ | ⋮ | ⋮ | ⋮ | ⋮ | ⋮ | ⋮ | ⋮ | ⋮ | ⋮ | ⋮ |\n",
       "| 57 | 1 | 4 | 130 | 131 | 0 | 0 | 115 | 1 | 1.2 | 2 | 1.0 | 7.0 | 3 |\n",
       "| 57 | 0 | 2 | 130 | 236 | 0 | 2 | 174 | 0 | 0.0 | 2 | 1.0 | 3.0 | 1 |\n",
       "| 38 | 1 | 3 | 138 | 175 | 0 | 0 | 173 | 0 | 0.0 | 1 | ?   | 3.0 | 0 |\n",
       "\n"
      ],
      "text/plain": [
       "    age sex cp trestbps chol fbs restecg thalach exang oldpeak slope ca  thal\n",
       "1   67  1   4  160      286  0   2       108     1     1.5     2     3.0 3.0 \n",
       "2   67  1   4  120      229  0   2       129     1     2.6     2     2.0 7.0 \n",
       "3   37  1   3  130      250  0   0       187     0     3.5     3     0.0 3.0 \n",
       "⋮   ⋮   ⋮   ⋮  ⋮        ⋮    ⋮   ⋮       ⋮       ⋮     ⋮       ⋮     ⋮   ⋮   \n",
       "300 57  1   4  130      131  0   0       115     1     1.2     2     1.0 7.0 \n",
       "301 57  0   2  130      236  0   2       174     0     0.0     2     1.0 3.0 \n",
       "302 38  1   3  138      175  0   0       173     0     0.0     1     ?   3.0 \n",
       "    num\n",
       "1   2  \n",
       "2   1  \n",
       "3   0  \n",
       "⋮   ⋮  \n",
       "300 3  \n",
       "301 1  \n",
       "302 0  "
      ]
     },
     "metadata": {},
     "output_type": "display_data"
    }
   ],
   "source": [
    "colnames(cleveland) <- c(\"age\", \"sex\", \"cp\", \"trestbps\", \"chol\", \"fbs\", \"restecg\", \"thalach\", \"exang\",\"oldpeak\",\"slope\",\"ca\",\"thal\",\"num\")\n",
    "\n",
    "\n",
    "\n",
    "\n",
    "\n",
    "cleveland\n",
    "                         \n"
   ]
  },
  {
   "cell_type": "code",
   "execution_count": 4,
   "id": "6a9fc96c-8037-40e7-9416-5717da0aa760",
   "metadata": {},
   "outputs": [
    {
     "name": "stderr",
     "output_type": "stream",
     "text": [
      "Warning message in mask$eval_all_mutate(quo):\n",
      "“NAs introduced by coercion”\n",
      "Warning message in mask$eval_all_mutate(quo):\n",
      "“NAs introduced by coercion”\n"
     ]
    },
    {
     "data": {
      "text/html": [
       "<table class=\"dataframe\">\n",
       "<caption>A tibble: 302 × 14</caption>\n",
       "<thead>\n",
       "\t<tr><th scope=col>age</th><th scope=col>sex</th><th scope=col>cp</th><th scope=col>trestbps</th><th scope=col>chol</th><th scope=col>fbs</th><th scope=col>restecg</th><th scope=col>thalach</th><th scope=col>exang</th><th scope=col>oldpeak</th><th scope=col>slope</th><th scope=col>ca</th><th scope=col>thal</th><th scope=col>num</th></tr>\n",
       "\t<tr><th scope=col>&lt;dbl&gt;</th><th scope=col>&lt;dbl&gt;</th><th scope=col>&lt;dbl&gt;</th><th scope=col>&lt;dbl&gt;</th><th scope=col>&lt;dbl&gt;</th><th scope=col>&lt;dbl&gt;</th><th scope=col>&lt;dbl&gt;</th><th scope=col>&lt;dbl&gt;</th><th scope=col>&lt;dbl&gt;</th><th scope=col>&lt;dbl&gt;</th><th scope=col>&lt;dbl&gt;</th><th scope=col>&lt;dbl&gt;</th><th scope=col>&lt;dbl&gt;</th><th scope=col>&lt;dbl&gt;</th></tr>\n",
       "</thead>\n",
       "<tbody>\n",
       "\t<tr><td>67</td><td>1</td><td>4</td><td>160</td><td>286</td><td>0</td><td>2</td><td>108</td><td>1</td><td>1.5</td><td>2</td><td>3</td><td>3</td><td>2</td></tr>\n",
       "\t<tr><td>67</td><td>1</td><td>4</td><td>120</td><td>229</td><td>0</td><td>2</td><td>129</td><td>1</td><td>2.6</td><td>2</td><td>2</td><td>7</td><td>1</td></tr>\n",
       "\t<tr><td>37</td><td>1</td><td>3</td><td>130</td><td>250</td><td>0</td><td>0</td><td>187</td><td>0</td><td>3.5</td><td>3</td><td>0</td><td>3</td><td>0</td></tr>\n",
       "\t<tr><td>⋮</td><td>⋮</td><td>⋮</td><td>⋮</td><td>⋮</td><td>⋮</td><td>⋮</td><td>⋮</td><td>⋮</td><td>⋮</td><td>⋮</td><td>⋮</td><td>⋮</td><td>⋮</td></tr>\n",
       "\t<tr><td>57</td><td>1</td><td>4</td><td>130</td><td>131</td><td>0</td><td>0</td><td>115</td><td>1</td><td>1.2</td><td>2</td><td> 1</td><td>7</td><td>3</td></tr>\n",
       "\t<tr><td>57</td><td>0</td><td>2</td><td>130</td><td>236</td><td>0</td><td>2</td><td>174</td><td>0</td><td>0.0</td><td>2</td><td> 1</td><td>3</td><td>1</td></tr>\n",
       "\t<tr><td>38</td><td>1</td><td>3</td><td>138</td><td>175</td><td>0</td><td>0</td><td>173</td><td>0</td><td>0.0</td><td>1</td><td>NA</td><td>3</td><td>0</td></tr>\n",
       "</tbody>\n",
       "</table>\n"
      ],
      "text/latex": [
       "A tibble: 302 × 14\n",
       "\\begin{tabular}{llllllllllllll}\n",
       " age & sex & cp & trestbps & chol & fbs & restecg & thalach & exang & oldpeak & slope & ca & thal & num\\\\\n",
       " <dbl> & <dbl> & <dbl> & <dbl> & <dbl> & <dbl> & <dbl> & <dbl> & <dbl> & <dbl> & <dbl> & <dbl> & <dbl> & <dbl>\\\\\n",
       "\\hline\n",
       "\t 67 & 1 & 4 & 160 & 286 & 0 & 2 & 108 & 1 & 1.5 & 2 & 3 & 3 & 2\\\\\n",
       "\t 67 & 1 & 4 & 120 & 229 & 0 & 2 & 129 & 1 & 2.6 & 2 & 2 & 7 & 1\\\\\n",
       "\t 37 & 1 & 3 & 130 & 250 & 0 & 0 & 187 & 0 & 3.5 & 3 & 0 & 3 & 0\\\\\n",
       "\t ⋮ & ⋮ & ⋮ & ⋮ & ⋮ & ⋮ & ⋮ & ⋮ & ⋮ & ⋮ & ⋮ & ⋮ & ⋮ & ⋮\\\\\n",
       "\t 57 & 1 & 4 & 130 & 131 & 0 & 0 & 115 & 1 & 1.2 & 2 &  1 & 7 & 3\\\\\n",
       "\t 57 & 0 & 2 & 130 & 236 & 0 & 2 & 174 & 0 & 0.0 & 2 &  1 & 3 & 1\\\\\n",
       "\t 38 & 1 & 3 & 138 & 175 & 0 & 0 & 173 & 0 & 0.0 & 1 & NA & 3 & 0\\\\\n",
       "\\end{tabular}\n"
      ],
      "text/markdown": [
       "\n",
       "A tibble: 302 × 14\n",
       "\n",
       "| age &lt;dbl&gt; | sex &lt;dbl&gt; | cp &lt;dbl&gt; | trestbps &lt;dbl&gt; | chol &lt;dbl&gt; | fbs &lt;dbl&gt; | restecg &lt;dbl&gt; | thalach &lt;dbl&gt; | exang &lt;dbl&gt; | oldpeak &lt;dbl&gt; | slope &lt;dbl&gt; | ca &lt;dbl&gt; | thal &lt;dbl&gt; | num &lt;dbl&gt; |\n",
       "|---|---|---|---|---|---|---|---|---|---|---|---|---|---|\n",
       "| 67 | 1 | 4 | 160 | 286 | 0 | 2 | 108 | 1 | 1.5 | 2 | 3 | 3 | 2 |\n",
       "| 67 | 1 | 4 | 120 | 229 | 0 | 2 | 129 | 1 | 2.6 | 2 | 2 | 7 | 1 |\n",
       "| 37 | 1 | 3 | 130 | 250 | 0 | 0 | 187 | 0 | 3.5 | 3 | 0 | 3 | 0 |\n",
       "| ⋮ | ⋮ | ⋮ | ⋮ | ⋮ | ⋮ | ⋮ | ⋮ | ⋮ | ⋮ | ⋮ | ⋮ | ⋮ | ⋮ |\n",
       "| 57 | 1 | 4 | 130 | 131 | 0 | 0 | 115 | 1 | 1.2 | 2 |  1 | 7 | 3 |\n",
       "| 57 | 0 | 2 | 130 | 236 | 0 | 2 | 174 | 0 | 0.0 | 2 |  1 | 3 | 1 |\n",
       "| 38 | 1 | 3 | 138 | 175 | 0 | 0 | 173 | 0 | 0.0 | 1 | NA | 3 | 0 |\n",
       "\n"
      ],
      "text/plain": [
       "    age sex cp trestbps chol fbs restecg thalach exang oldpeak slope ca thal\n",
       "1   67  1   4  160      286  0   2       108     1     1.5     2     3  3   \n",
       "2   67  1   4  120      229  0   2       129     1     2.6     2     2  7   \n",
       "3   37  1   3  130      250  0   0       187     0     3.5     3     0  3   \n",
       "⋮   ⋮   ⋮   ⋮  ⋮        ⋮    ⋮   ⋮       ⋮       ⋮     ⋮       ⋮     ⋮  ⋮   \n",
       "300 57  1   4  130      131  0   0       115     1     1.2     2      1 7   \n",
       "301 57  0   2  130      236  0   2       174     0     0.0     2      1 3   \n",
       "302 38  1   3  138      175  0   0       173     0     0.0     1     NA 3   \n",
       "    num\n",
       "1   2  \n",
       "2   1  \n",
       "3   0  \n",
       "⋮   ⋮  \n",
       "300 3  \n",
       "301 1  \n",
       "302 0  "
      ]
     },
     "metadata": {},
     "output_type": "display_data"
    }
   ],
   "source": [
    "cleveland_mutate <- mutate(cleveland, ca = as.numeric(ca), thal = as.numeric(thal)) \n",
    "cleveland_mutate\n"
   ]
  },
  {
   "cell_type": "code",
   "execution_count": 5,
   "id": "657822df-071c-4064-b7a4-e62b3723c7d7",
   "metadata": {},
   "outputs": [],
   "source": [
    "cleveland_split <- initial_split(cleveland_mutate, prop = 0.80, strata = cp)\n",
    "cleveland_train <- training(cleveland_split) \n",
    "cleveland_test <- testing(cleveland_split)"
   ]
  },
  {
   "cell_type": "code",
   "execution_count": 6,
   "id": "c64fd0be-8614-4558-8965-f657203b670b",
   "metadata": {},
   "outputs": [
    {
     "data": {
      "text/html": [
       "<table class=\"dataframe\">\n",
       "<caption>A tibble: 240 × 14</caption>\n",
       "<thead>\n",
       "\t<tr><th scope=col>age</th><th scope=col>sex</th><th scope=col>cp</th><th scope=col>trestbps</th><th scope=col>chol</th><th scope=col>fbs</th><th scope=col>restecg</th><th scope=col>thalach</th><th scope=col>exang</th><th scope=col>oldpeak</th><th scope=col>slope</th><th scope=col>ca</th><th scope=col>thal</th><th scope=col>num</th></tr>\n",
       "\t<tr><th scope=col>&lt;dbl[,1]&gt;</th><th scope=col>&lt;dbl[,1]&gt;</th><th scope=col>&lt;dbl[,1]&gt;</th><th scope=col>&lt;dbl[,1]&gt;</th><th scope=col>&lt;dbl[,1]&gt;</th><th scope=col>&lt;dbl[,1]&gt;</th><th scope=col>&lt;dbl[,1]&gt;</th><th scope=col>&lt;dbl[,1]&gt;</th><th scope=col>&lt;dbl[,1]&gt;</th><th scope=col>&lt;dbl[,1]&gt;</th><th scope=col>&lt;dbl[,1]&gt;</th><th scope=col>&lt;dbl[,1]&gt;</th><th scope=col>&lt;dbl[,1]&gt;</th><th scope=col>&lt;dbl[,1]&gt;</th></tr>\n",
       "</thead>\n",
       "<tbody>\n",
       "\t<tr><td>-1.4820032</td><td>-1.4659139</td><td>-1.231003</td><td>-0.1525805</td><td>-0.8226711</td><td>-0.4328221</td><td> 1.0404684</td><td>0.9599115</td><td>-0.6727938</td><td> 0.2815177</td><td>-0.9958610</td><td>-0.7230651</td><td>-0.8628835</td><td>-0.7500609</td></tr>\n",
       "\t<tr><td> 0.1790216</td><td> 0.6793259</td><td>-1.231003</td><td>-0.7159546</td><td>-0.1666526</td><td>-0.4328221</td><td>-0.9733414</td><td>1.2206193</td><td>-0.6727938</td><td>-0.2134585</td><td>-0.9958610</td><td>-0.7230651</td><td>-0.8628835</td><td>-0.7500609</td></tr>\n",
       "\t<tr><td> 0.1790216</td><td>-1.4659139</td><td>-1.231003</td><td> 0.4107936</td><td> 1.0223809</td><td>-0.4328221</td><td> 1.0404684</td><td>0.1343369</td><td>-0.6727938</td><td> 0.1990217</td><td> 0.6411708</td><td>-0.7230651</td><td>-0.8628835</td><td>-0.7500609</td></tr>\n",
       "\t<tr><td>⋮</td><td>⋮</td><td>⋮</td><td>⋮</td><td>⋮</td><td>⋮</td><td>⋮</td><td>⋮</td><td>⋮</td><td>⋮</td><td>⋮</td><td>⋮</td><td>⋮</td><td>⋮</td></tr>\n",
       "\t<tr><td>0.5112265</td><td> 0.6793259</td><td>0.856917</td><td>1.7628915</td><td>-1.39668734</td><td> 2.3007912</td><td> 1.0404684</td><td>-2.6030946</td><td>-0.6727938</td><td>-0.04846642</td><td>0.6411708</td><td> 1.3707185</td><td>0.6877116</td><td>1.61855237</td></tr>\n",
       "\t<tr><td>0.2897566</td><td>-1.4659139</td><td>0.856917</td><td>0.4107936</td><td>-0.06414973</td><td>-0.4328221</td><td>-0.9733414</td><td>-1.1692019</td><td> 1.4801464</td><td>-0.70843467</td><td>0.6411708</td><td>-0.7230651</td><td>1.2045767</td><td>0.03947689</td></tr>\n",
       "\t<tr><td>1.5078414</td><td> 0.6793259</td><td>0.856917</td><td>0.6361433</td><td>-1.04817750</td><td> 2.3007912</td><td>-0.9733414</td><td>-0.3870786</td><td>-0.6727938</td><td> 1.93143834</td><td>0.6411708</td><td> 1.3707185</td><td>1.2045767</td><td>0.82901463</td></tr>\n",
       "</tbody>\n",
       "</table>\n"
      ],
      "text/latex": [
       "A tibble: 240 × 14\n",
       "\\begin{tabular}{llllllllllllll}\n",
       " age & sex & cp & trestbps & chol & fbs & restecg & thalach & exang & oldpeak & slope & ca & thal & num\\\\\n",
       " <dbl{[},1{]}> & <dbl{[},1{]}> & <dbl{[},1{]}> & <dbl{[},1{]}> & <dbl{[},1{]}> & <dbl{[},1{]}> & <dbl{[},1{]}> & <dbl{[},1{]}> & <dbl{[},1{]}> & <dbl{[},1{]}> & <dbl{[},1{]}> & <dbl{[},1{]}> & <dbl{[},1{]}> & <dbl{[},1{]}>\\\\\n",
       "\\hline\n",
       "\t -1.4820032 & -1.4659139 & -1.231003 & -0.1525805 & -0.8226711 & -0.4328221 &  1.0404684 & 0.9599115 & -0.6727938 &  0.2815177 & -0.9958610 & -0.7230651 & -0.8628835 & -0.7500609\\\\\n",
       "\t  0.1790216 &  0.6793259 & -1.231003 & -0.7159546 & -0.1666526 & -0.4328221 & -0.9733414 & 1.2206193 & -0.6727938 & -0.2134585 & -0.9958610 & -0.7230651 & -0.8628835 & -0.7500609\\\\\n",
       "\t  0.1790216 & -1.4659139 & -1.231003 &  0.4107936 &  1.0223809 & -0.4328221 &  1.0404684 & 0.1343369 & -0.6727938 &  0.1990217 &  0.6411708 & -0.7230651 & -0.8628835 & -0.7500609\\\\\n",
       "\t ⋮ & ⋮ & ⋮ & ⋮ & ⋮ & ⋮ & ⋮ & ⋮ & ⋮ & ⋮ & ⋮ & ⋮ & ⋮ & ⋮\\\\\n",
       "\t 0.5112265 &  0.6793259 & 0.856917 & 1.7628915 & -1.39668734 &  2.3007912 &  1.0404684 & -2.6030946 & -0.6727938 & -0.04846642 & 0.6411708 &  1.3707185 & 0.6877116 & 1.61855237\\\\\n",
       "\t 0.2897566 & -1.4659139 & 0.856917 & 0.4107936 & -0.06414973 & -0.4328221 & -0.9733414 & -1.1692019 &  1.4801464 & -0.70843467 & 0.6411708 & -0.7230651 & 1.2045767 & 0.03947689\\\\\n",
       "\t 1.5078414 &  0.6793259 & 0.856917 & 0.6361433 & -1.04817750 &  2.3007912 & -0.9733414 & -0.3870786 & -0.6727938 &  1.93143834 & 0.6411708 &  1.3707185 & 1.2045767 & 0.82901463\\\\\n",
       "\\end{tabular}\n"
      ],
      "text/markdown": [
       "\n",
       "A tibble: 240 × 14\n",
       "\n",
       "| age &lt;dbl[,1]&gt; | sex &lt;dbl[,1]&gt; | cp &lt;dbl[,1]&gt; | trestbps &lt;dbl[,1]&gt; | chol &lt;dbl[,1]&gt; | fbs &lt;dbl[,1]&gt; | restecg &lt;dbl[,1]&gt; | thalach &lt;dbl[,1]&gt; | exang &lt;dbl[,1]&gt; | oldpeak &lt;dbl[,1]&gt; | slope &lt;dbl[,1]&gt; | ca &lt;dbl[,1]&gt; | thal &lt;dbl[,1]&gt; | num &lt;dbl[,1]&gt; |\n",
       "|---|---|---|---|---|---|---|---|---|---|---|---|---|---|\n",
       "| -1.4820032 | -1.4659139 | -1.231003 | -0.1525805 | -0.8226711 | -0.4328221 |  1.0404684 | 0.9599115 | -0.6727938 |  0.2815177 | -0.9958610 | -0.7230651 | -0.8628835 | -0.7500609 |\n",
       "|  0.1790216 |  0.6793259 | -1.231003 | -0.7159546 | -0.1666526 | -0.4328221 | -0.9733414 | 1.2206193 | -0.6727938 | -0.2134585 | -0.9958610 | -0.7230651 | -0.8628835 | -0.7500609 |\n",
       "|  0.1790216 | -1.4659139 | -1.231003 |  0.4107936 |  1.0223809 | -0.4328221 |  1.0404684 | 0.1343369 | -0.6727938 |  0.1990217 |  0.6411708 | -0.7230651 | -0.8628835 | -0.7500609 |\n",
       "| ⋮ | ⋮ | ⋮ | ⋮ | ⋮ | ⋮ | ⋮ | ⋮ | ⋮ | ⋮ | ⋮ | ⋮ | ⋮ | ⋮ |\n",
       "| 0.5112265 |  0.6793259 | 0.856917 | 1.7628915 | -1.39668734 |  2.3007912 |  1.0404684 | -2.6030946 | -0.6727938 | -0.04846642 | 0.6411708 |  1.3707185 | 0.6877116 | 1.61855237 |\n",
       "| 0.2897566 | -1.4659139 | 0.856917 | 0.4107936 | -0.06414973 | -0.4328221 | -0.9733414 | -1.1692019 |  1.4801464 | -0.70843467 | 0.6411708 | -0.7230651 | 1.2045767 | 0.03947689 |\n",
       "| 1.5078414 |  0.6793259 | 0.856917 | 0.6361433 | -1.04817750 |  2.3007912 | -0.9733414 | -0.3870786 | -0.6727938 |  1.93143834 | 0.6411708 |  1.3707185 | 1.2045767 | 0.82901463 |\n",
       "\n"
      ],
      "text/plain": [
       "    age        sex        cp        trestbps   chol        fbs       \n",
       "1   -1.4820032 -1.4659139 -1.231003 -0.1525805 -0.8226711  -0.4328221\n",
       "2    0.1790216  0.6793259 -1.231003 -0.7159546 -0.1666526  -0.4328221\n",
       "3    0.1790216 -1.4659139 -1.231003  0.4107936  1.0223809  -0.4328221\n",
       "⋮   ⋮          ⋮          ⋮         ⋮          ⋮           ⋮         \n",
       "238 0.5112265   0.6793259 0.856917  1.7628915  -1.39668734  2.3007912\n",
       "239 0.2897566  -1.4659139 0.856917  0.4107936  -0.06414973 -0.4328221\n",
       "240 1.5078414   0.6793259 0.856917  0.6361433  -1.04817750  2.3007912\n",
       "    restecg    thalach    exang      oldpeak     slope      ca        \n",
       "1    1.0404684 0.9599115  -0.6727938  0.2815177  -0.9958610 -0.7230651\n",
       "2   -0.9733414 1.2206193  -0.6727938 -0.2134585  -0.9958610 -0.7230651\n",
       "3    1.0404684 0.1343369  -0.6727938  0.1990217   0.6411708 -0.7230651\n",
       "⋮   ⋮          ⋮          ⋮          ⋮           ⋮          ⋮         \n",
       "238  1.0404684 -2.6030946 -0.6727938 -0.04846642 0.6411708   1.3707185\n",
       "239 -0.9733414 -1.1692019  1.4801464 -0.70843467 0.6411708  -0.7230651\n",
       "240 -0.9733414 -0.3870786 -0.6727938  1.93143834 0.6411708   1.3707185\n",
       "    thal       num       \n",
       "1   -0.8628835 -0.7500609\n",
       "2   -0.8628835 -0.7500609\n",
       "3   -0.8628835 -0.7500609\n",
       "⋮   ⋮          ⋮         \n",
       "238 0.6877116  1.61855237\n",
       "239 1.2045767  0.03947689\n",
       "240 1.2045767  0.82901463"
      ]
     },
     "metadata": {},
     "output_type": "display_data"
    }
   ],
   "source": [
    "cleveland_train_scaled <- cleveland_train |> \n",
    " mutate(age = scale(age, center = TRUE), \n",
    "        sex = scale(sex, center = TRUE), \n",
    "        cp = scale(cp, center = TRUE), \n",
    "        trestbps = scale(trestbps, center = TRUE), \n",
    "        chol = scale(chol, center = TRUE), \n",
    "        fbs = scale(fbs, center = TRUE), \n",
    "        restecg = scale(restecg, center = TRUE), \n",
    "        thalach = scale(thalach, center = TRUE),\n",
    "        exang = scale(exang, center = TRUE),\n",
    "        oldpeak = scale(oldpeak, center = TRUE),\n",
    "        slope = scale(slope, center = TRUE),\n",
    "        ca = scale(ca, center = TRUE),\n",
    "        thal = scale(thal, center = TRUE),\n",
    "        num = scale(num, center = TRUE))\n",
    "        \n",
    "cleveland_train_scaled"
   ]
  },
  {
   "cell_type": "code",
   "execution_count": 7,
   "id": "0cfc59cf-7f7f-4739-b71d-fcef1fd49afa",
   "metadata": {},
   "outputs": [
    {
     "data": {
      "text/html": [
       "<table class=\"dataframe\">\n",
       "<caption>A tibble: 69 × 14</caption>\n",
       "<thead>\n",
       "\t<tr><th scope=col>age</th><th scope=col>sex</th><th scope=col>cp</th><th scope=col>trestbps</th><th scope=col>chol</th><th scope=col>fbs</th><th scope=col>restecg</th><th scope=col>thalach</th><th scope=col>exang</th><th scope=col>oldpeak</th><th scope=col>slope</th><th scope=col>ca</th><th scope=col>thal</th><th scope=col>num</th></tr>\n",
       "\t<tr><th scope=col>&lt;dbl&gt;</th><th scope=col>&lt;dbl&gt;</th><th scope=col>&lt;dbl&gt;</th><th scope=col>&lt;dbl&gt;</th><th scope=col>&lt;dbl&gt;</th><th scope=col>&lt;dbl&gt;</th><th scope=col>&lt;dbl&gt;</th><th scope=col>&lt;dbl&gt;</th><th scope=col>&lt;dbl&gt;</th><th scope=col>&lt;dbl&gt;</th><th scope=col>&lt;dbl&gt;</th><th scope=col>&lt;dbl&gt;</th><th scope=col>&lt;dbl&gt;</th><th scope=col>&lt;dbl&gt;</th></tr>\n",
       "</thead>\n",
       "<tbody>\n",
       "\t<tr><td>64</td><td>1</td><td>1</td><td>110</td><td>211</td><td>0</td><td>2</td><td>144</td><td>1</td><td>1.8</td><td>2</td><td>0</td><td>3</td><td>0</td></tr>\n",
       "\t<tr><td>69</td><td>0</td><td>1</td><td>140</td><td>239</td><td>0</td><td>0</td><td>151</td><td>0</td><td>1.8</td><td>1</td><td>2</td><td>3</td><td>0</td></tr>\n",
       "\t<tr><td>65</td><td>1</td><td>1</td><td>138</td><td>282</td><td>1</td><td>2</td><td>174</td><td>0</td><td>1.4</td><td>2</td><td>1</td><td>3</td><td>1</td></tr>\n",
       "\t<tr><td>⋮</td><td>⋮</td><td>⋮</td><td>⋮</td><td>⋮</td><td>⋮</td><td>⋮</td><td>⋮</td><td>⋮</td><td>⋮</td><td>⋮</td><td>⋮</td><td>⋮</td><td>⋮</td></tr>\n",
       "\t<tr><td>61</td><td>1</td><td>4</td><td>148</td><td>203</td><td>0</td><td>0</td><td>161</td><td>0</td><td>0.0</td><td>1</td><td>1</td><td>7</td><td>2</td></tr>\n",
       "\t<tr><td>63</td><td>1</td><td>4</td><td>140</td><td>187</td><td>0</td><td>2</td><td>144</td><td>1</td><td>4.0</td><td>1</td><td>2</td><td>7</td><td>2</td></tr>\n",
       "\t<tr><td>68</td><td>1</td><td>4</td><td>144</td><td>193</td><td>1</td><td>0</td><td>141</td><td>0</td><td>3.4</td><td>2</td><td>2</td><td>7</td><td>2</td></tr>\n",
       "</tbody>\n",
       "</table>\n"
      ],
      "text/latex": [
       "A tibble: 69 × 14\n",
       "\\begin{tabular}{llllllllllllll}\n",
       " age & sex & cp & trestbps & chol & fbs & restecg & thalach & exang & oldpeak & slope & ca & thal & num\\\\\n",
       " <dbl> & <dbl> & <dbl> & <dbl> & <dbl> & <dbl> & <dbl> & <dbl> & <dbl> & <dbl> & <dbl> & <dbl> & <dbl> & <dbl>\\\\\n",
       "\\hline\n",
       "\t 64 & 1 & 1 & 110 & 211 & 0 & 2 & 144 & 1 & 1.8 & 2 & 0 & 3 & 0\\\\\n",
       "\t 69 & 0 & 1 & 140 & 239 & 0 & 0 & 151 & 0 & 1.8 & 1 & 2 & 3 & 0\\\\\n",
       "\t 65 & 1 & 1 & 138 & 282 & 1 & 2 & 174 & 0 & 1.4 & 2 & 1 & 3 & 1\\\\\n",
       "\t ⋮ & ⋮ & ⋮ & ⋮ & ⋮ & ⋮ & ⋮ & ⋮ & ⋮ & ⋮ & ⋮ & ⋮ & ⋮ & ⋮\\\\\n",
       "\t 61 & 1 & 4 & 148 & 203 & 0 & 0 & 161 & 0 & 0.0 & 1 & 1 & 7 & 2\\\\\n",
       "\t 63 & 1 & 4 & 140 & 187 & 0 & 2 & 144 & 1 & 4.0 & 1 & 2 & 7 & 2\\\\\n",
       "\t 68 & 1 & 4 & 144 & 193 & 1 & 0 & 141 & 0 & 3.4 & 2 & 2 & 7 & 2\\\\\n",
       "\\end{tabular}\n"
      ],
      "text/markdown": [
       "\n",
       "A tibble: 69 × 14\n",
       "\n",
       "| age &lt;dbl&gt; | sex &lt;dbl&gt; | cp &lt;dbl&gt; | trestbps &lt;dbl&gt; | chol &lt;dbl&gt; | fbs &lt;dbl&gt; | restecg &lt;dbl&gt; | thalach &lt;dbl&gt; | exang &lt;dbl&gt; | oldpeak &lt;dbl&gt; | slope &lt;dbl&gt; | ca &lt;dbl&gt; | thal &lt;dbl&gt; | num &lt;dbl&gt; |\n",
       "|---|---|---|---|---|---|---|---|---|---|---|---|---|---|\n",
       "| 64 | 1 | 1 | 110 | 211 | 0 | 2 | 144 | 1 | 1.8 | 2 | 0 | 3 | 0 |\n",
       "| 69 | 0 | 1 | 140 | 239 | 0 | 0 | 151 | 0 | 1.8 | 1 | 2 | 3 | 0 |\n",
       "| 65 | 1 | 1 | 138 | 282 | 1 | 2 | 174 | 0 | 1.4 | 2 | 1 | 3 | 1 |\n",
       "| ⋮ | ⋮ | ⋮ | ⋮ | ⋮ | ⋮ | ⋮ | ⋮ | ⋮ | ⋮ | ⋮ | ⋮ | ⋮ | ⋮ |\n",
       "| 61 | 1 | 4 | 148 | 203 | 0 | 0 | 161 | 0 | 0.0 | 1 | 1 | 7 | 2 |\n",
       "| 63 | 1 | 4 | 140 | 187 | 0 | 2 | 144 | 1 | 4.0 | 1 | 2 | 7 | 2 |\n",
       "| 68 | 1 | 4 | 144 | 193 | 1 | 0 | 141 | 0 | 3.4 | 2 | 2 | 7 | 2 |\n",
       "\n"
      ],
      "text/plain": [
       "   age sex cp trestbps chol fbs restecg thalach exang oldpeak slope ca thal num\n",
       "1  64  1   1  110      211  0   2       144     1     1.8     2     0  3    0  \n",
       "2  69  0   1  140      239  0   0       151     0     1.8     1     2  3    0  \n",
       "3  65  1   1  138      282  1   2       174     0     1.4     2     1  3    1  \n",
       "⋮  ⋮   ⋮   ⋮  ⋮        ⋮    ⋮   ⋮       ⋮       ⋮     ⋮       ⋮     ⋮  ⋮    ⋮  \n",
       "67 61  1   4  148      203  0   0       161     0     0.0     1     1  7    2  \n",
       "68 63  1   4  140      187  0   2       144     1     4.0     1     2  7    2  \n",
       "69 68  1   4  144      193  1   0       141     0     3.4     2     2  7    2  "
      ]
     },
     "metadata": {},
     "output_type": "display_data"
    }
   ],
   "source": [
    "\n",
    "cleveland <- filter(cleveland_train, age >= 60) \n",
    "\n",
    "cleveland\n",
    "\n",
    "\n",
    "\n",
    "\n",
    "\n",
    "\n",
    "\n"
   ]
  },
  {
   "cell_type": "code",
   "execution_count": 8,
   "id": "60632419-e02c-46f7-8b9a-6221315416c6",
   "metadata": {},
   "outputs": [
    {
     "data": {
      "text/html": [
       "<table class=\"dataframe\">\n",
       "<caption>A tibble: 1 × 1</caption>\n",
       "<thead>\n",
       "\t<tr><th scope=col>trestbps_mean</th></tr>\n",
       "\t<tr><th scope=col>&lt;dbl&gt;</th></tr>\n",
       "</thead>\n",
       "<tbody>\n",
       "\t<tr><td>132.7083</td></tr>\n",
       "</tbody>\n",
       "</table>\n"
      ],
      "text/latex": [
       "A tibble: 1 × 1\n",
       "\\begin{tabular}{l}\n",
       " trestbps\\_mean\\\\\n",
       " <dbl>\\\\\n",
       "\\hline\n",
       "\t 132.7083\\\\\n",
       "\\end{tabular}\n"
      ],
      "text/markdown": [
       "\n",
       "A tibble: 1 × 1\n",
       "\n",
       "| trestbps_mean &lt;dbl&gt; |\n",
       "|---|\n",
       "| 132.7083 |\n",
       "\n"
      ],
      "text/plain": [
       "  trestbps_mean\n",
       "1 132.7083     "
      ]
     },
     "metadata": {},
     "output_type": "display_data"
    }
   ],
   "source": [
    "trestbps_mean <- summarize(cleveland_train, trestbps_mean = mean(trestbps))\n",
    "trestbps_mean"
   ]
  },
  {
   "cell_type": "code",
   "execution_count": null,
   "id": "2cf0b622-de1e-4749-85d9-1f16384b1b28",
   "metadata": {},
   "outputs": [],
   "source": []
  }
 ],
 "metadata": {
  "kernelspec": {
   "display_name": "R",
   "language": "R",
   "name": "ir"
  },
  "language_info": {
   "codemirror_mode": "r",
   "file_extension": ".r",
   "mimetype": "text/x-r-source",
   "name": "R",
   "pygments_lexer": "r",
   "version": "4.1.3"
  },
  "toc-autonumbering": true,
  "toc-showcode": true,
  "toc-showmarkdowntxt": true
 },
 "nbformat": 4,
 "nbformat_minor": 5
}
